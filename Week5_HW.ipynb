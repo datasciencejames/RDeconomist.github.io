{
  "nbformat": 4,
  "nbformat_minor": 0,
  "metadata": {
    "colab": {
      "provenance": [],
      "authorship_tag": "ABX9TyNPKjjh/U5F/RKGu548Utzg",
      "include_colab_link": true
    },
    "kernelspec": {
      "name": "python3",
      "display_name": "Python 3"
    },
    "language_info": {
      "name": "python"
    }
  },
  "cells": [
    {
      "cell_type": "markdown",
      "metadata": {
        "id": "view-in-github",
        "colab_type": "text"
      },
      "source": [
        "<a href=\"https://colab.research.google.com/github/datasciencejames/RDeconomist.github.io/blob/main/Week5_HW.ipynb\" target=\"_parent\"><img src=\"https://colab.research.google.com/assets/colab-badge.svg\" alt=\"Open In Colab\"/></a>"
      ]
    },
    {
      "cell_type": "code",
      "source": [
        "# // Set a base URL. \n",
        "# // This includes everthing that does not change in our loop.\n",
        "# // And a placeholder \"{}\" for the part that does change.\n",
        "\n",
        "url_base = \"https://api.ons.gov.uk/timeseries/{}/dataset/pusf/data\"\n",
        "ONSSeries = ['MU73','MF6V','cpnx','cwp2','anrh','mf76','nmbj','jw39','ruum']\n",
        "for i in ONSSeries:\n",
        "    URL = url_base.format(i)\n",
        "    print(URL)\n",
        "\n"
      ],
      "metadata": {
        "id": "Xl2SXyD3WF4B"
      },
      "execution_count": null,
      "outputs": []
    },
    {
      "cell_type": "code",
      "source": [
        "# // Opening web sites and web scraping:\n",
        "import requests\n",
        "\n",
        "# // JSON. This helps us make JSON look prettier and easier to read\n",
        "import json\n",
        "\n",
        "# /// Files.  This is part of Collab - allows you to upload and download files\n",
        "from google.colab import files\n",
        "\n",
        "# // OS. Sometimes need this for finding working directory:\n",
        "import os"
      ],
      "metadata": {
        "id": "NeCKa4xVgJ8X"
      },
      "execution_count": 36,
      "outputs": []
    },
    {
      "cell_type": "code",
      "source": [
        "## // Getting data from a single API call:\n",
        "url = \"https://api.ons.gov.uk/timeseries/MU73/dataset/pusf/data\"\n",
        "\n",
        "\n",
        "# We use'requests' which we installed above:\n",
        "data = requests.get(url).json()\n",
        "data"
      ],
      "metadata": {
        "id": "0nKxgtssggx6"
      },
      "execution_count": null,
      "outputs": []
    },
    {
      "cell_type": "code",
      "source": [
        "# // Downloading the date from a single API call:\n",
        "\n",
        "# // Based on the steps above, we have a variable \"data\" which has data on the public sector interest and dividend from BoE\n",
        "\n",
        "# // Set the filename, and check what we are getting:\n",
        "fileName = \"HW5data_ONS-MU73.json\"\n",
        "print(fileName)\n",
        "# // Note: again the file name can be anything. \n",
        "\n",
        "# /// Save the file:\n",
        "with open(fileName, 'w', encoding='utf-8') as f:\n",
        "  json.dump(data, f, ensure_ascii=False, indent=4)\n",
        "\n",
        "# /// Download the file to local machine:\n",
        "files.download('HW5data_ONS-MU73.json')"
      ],
      "metadata": {
        "colab": {
          "base_uri": "https://localhost:8080/",
          "height": 34
        },
        "id": "4X2tdlCJhbaW",
        "outputId": "839afecd-2b78-4f1c-f420-e290aeef2614"
      },
      "execution_count": 38,
      "outputs": [
        {
          "output_type": "stream",
          "name": "stdout",
          "text": [
            "HW5data_ONS-MU73.json\n"
          ]
        },
        {
          "output_type": "display_data",
          "data": {
            "text/plain": [
              "<IPython.core.display.Javascript object>"
            ],
            "application/javascript": [
              "\n",
              "    async function download(id, filename, size) {\n",
              "      if (!google.colab.kernel.accessAllowed) {\n",
              "        return;\n",
              "      }\n",
              "      const div = document.createElement('div');\n",
              "      const label = document.createElement('label');\n",
              "      label.textContent = `Downloading \"${filename}\": `;\n",
              "      div.appendChild(label);\n",
              "      const progress = document.createElement('progress');\n",
              "      progress.max = size;\n",
              "      div.appendChild(progress);\n",
              "      document.body.appendChild(div);\n",
              "\n",
              "      const buffers = [];\n",
              "      let downloaded = 0;\n",
              "\n",
              "      const channel = await google.colab.kernel.comms.open(id);\n",
              "      // Send a message to notify the kernel that we're ready.\n",
              "      channel.send({})\n",
              "\n",
              "      for await (const message of channel.messages) {\n",
              "        // Send a message to notify the kernel that we're ready.\n",
              "        channel.send({})\n",
              "        if (message.buffers) {\n",
              "          for (const buffer of message.buffers) {\n",
              "            buffers.push(buffer);\n",
              "            downloaded += buffer.byteLength;\n",
              "            progress.value = downloaded;\n",
              "          }\n",
              "        }\n",
              "      }\n",
              "      const blob = new Blob(buffers, {type: 'application/binary'});\n",
              "      const a = document.createElement('a');\n",
              "      a.href = window.URL.createObjectURL(blob);\n",
              "      a.download = filename;\n",
              "      div.appendChild(a);\n",
              "      a.click();\n",
              "      div.remove();\n",
              "    }\n",
              "  "
            ]
          },
          "metadata": {}
        },
        {
          "output_type": "display_data",
          "data": {
            "text/plain": [
              "<IPython.core.display.Javascript object>"
            ],
            "application/javascript": [
              "download(\"download_4838595f-1ffd-49ce-8353-0b13bd4d407b\", \"HW5data_ONS-MU73.json\", 229163)"
            ]
          },
          "metadata": {}
        }
      ]
    },
    {
      "cell_type": "code",
      "source": [
        "url_base = \"https://api.ons.gov.uk/timeseries/{}/dataset/pusf/data\"\n",
        "# // Set the base fileName:\n",
        "file_base = \"HW5data_ONS-{}.json\"\n",
        "\n",
        "ONSSeries = ['MU73','MF6V','cpnx','cwp2','anrh','mf76','nmbj','jw39','ruum']\n",
        "# // Begin a loop, dealing with each series, one by one:\n",
        "for i in ONSSeries:  \n",
        "\n",
        "   # // In what follows below I print the iteration of the loop we are on:\n",
        "   # // This is not necessary but can be helpful, esp with long loops: \n",
        "   print(\"------Iteration Starts--------\")\n",
        "   print(i) \n",
        "   # // Build the URL for this iteration of the loop, and check what we are getting:\n",
        "   URL = url_base.format(i)\n",
        "   print(URL)\n",
        "\n",
        "     \n",
        "   # // Request the html from the URL:\n",
        "   data = requests.get(URL).json()\n",
        "   print(data)\n",
        "\n",
        "   # // Set the filename, and check what we are getting:\n",
        "   fileName = file_base.format(i)\n",
        "   print(fileName)\n",
        "   \n",
        "   # // Add some white space to our output. (This is purely so we can see what is happening below clearly)\n",
        "   print(\"------Iteration Ends--------\")\n",
        "\n",
        "   # /// Save the file:\n",
        "   with open(fileName, 'w', encoding='utf-8') as f:\n",
        "     json.dump(data, f, ensure_ascii=False, indent=4)\n",
        "\n",
        "   # /// Download the file to local machine:\n",
        "   files.download(fileName)"
      ],
      "metadata": {
        "id": "Skyz7ytVmzQw"
      },
      "execution_count": null,
      "outputs": []
    }
  ]
}